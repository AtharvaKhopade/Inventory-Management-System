{
  "nbformat": 4,
  "nbformat_minor": 0,
  "metadata": {
    "colab": {
      "name": "Adding_new_Products.ipynb",
      "provenance": []
    },
    "kernelspec": {
      "name": "python3",
      "display_name": "Python 3"
    },
    "language_info": {
      "name": "python"
    }
  },
  "cells": [
    {
      "cell_type": "markdown",
      "metadata": {
        "id": "NBsti3Vj7SQz"
      },
      "source": [
        "## **Reading data from JSON**"
      ]
    },
    {
      "cell_type": "code",
      "metadata": {
        "id": "83CdLfRT7iuh"
      },
      "source": [
        "import json\n",
        "fd = open(\"record.json\",'r')\n",
        "r = fd.read()\n",
        "fd.close()\n",
        "\n",
        "record = json.loads(r)\n"
      ],
      "execution_count": 61,
      "outputs": []
    },
    {
      "cell_type": "code",
      "metadata": {
        "colab": {
          "base_uri": "https://localhost:8080/"
        },
        "id": "VtFgWgqbDApC",
        "outputId": "fdf9683b-eb3a-41a1-9dc1-a634f49bbaf6"
      },
      "source": [
        "record"
      ],
      "execution_count": 62,
      "outputs": [
        {
          "output_type": "execute_result",
          "data": {
            "text/plain": [
              "{'1001': {'name': 'Choco Cake', 'pr': 100, 'qn': 34},\n",
              " '1002': {'name': 'Milk Cake', 'pr': 800, 'qn': 100},\n",
              " '1003': {'name': 'Drink', 'pr': 85, 'qn': 100},\n",
              " '1004': {'name': 'Candy', 'pr': 5, 'qn': 1000},\n",
              " '1005': {'name': 'Pen', 'pr': 20, 'qn': 100},\n",
              " '1006': {'name': 'Phone', 'pr': 50000, 'qn': 10},\n",
              " '1007': {'name': 'Mic', 'pr': 1500, 'qn': 0},\n",
              " '1008': {'name': 'Case', 'pr': 599, 'qn': 5},\n",
              " '1009': {'name': 'Keyboard', 'pr': 1999, 'qn': 10},\n",
              " '1010': {'name': 'monitor', 'pr': 5000, 'qn': 20},\n",
              " '1011': {'name': 'Mouse', 'pr': 1000, 'qn': 20},\n",
              " '1012': {'name': 'chager', 'pr': 1500, 'qn': 20},\n",
              " '1013': {'name': 'table', 'pr': 2000, 'qn': 10},\n",
              " '1014': {'name': 'shirt', 'pr': 2500, 'qn': 50},\n",
              " '1015': {'name': 't-shirt', 'pr': 2500, 'qn': 50},\n",
              " '1016': {'name': 'Jeans', 'pr': 3000, 'qn': 50},\n",
              " '1017': {'name': 'notebook', 'pr': 50, 'qn': 100},\n",
              " '1018': {'name': 'dictionary', 'pr': 200, 'qn': 50},\n",
              " '1019': {'name': 'craft paper', 'pr': 20, 'qn': 50},\n",
              " '1020': {'name': 'drawing Sheet', 'pr': 5, 'qn': 50},\n",
              " '1021': {'name': 'geometry box', 'pr': 110, 'qn': 30},\n",
              " '1022': {'name': 'glue box', 'pr': 10, 'qn': 30},\n",
              " '1023': {'name': 'Drawing book', 'pr': 20, 'qn': 50},\n",
              " '1024': {'name': 'sketch pen', 'pr': 30, 'qn': 20},\n",
              " '1025': {'name': 'ink bottle', 'pr': 25, 'qn': 15},\n",
              " '1026': {'name': 'Ink pen', 'pr': 40, 'qn': 32},\n",
              " '1027': {'name': 'eraser', 'pr': 5, 'qn': 25},\n",
              " '1028': {'name': 'Maggie', 'pr': 12, 'qn': 50},\n",
              " '1029': {'name': 'Cheese', 'pr': 115, 'qn': 20},\n",
              " '1030': {'name': 'Butter', 'pr': 150, 'qn': 25}}"
            ]
          },
          "metadata": {},
          "execution_count": 62
        }
      ]
    },
    {
      "cell_type": "markdown",
      "metadata": {
        "id": "jOn-bZpuBIDD"
      },
      "source": [
        "\n",
        "## **Add New Item into Inventory** "
      ]
    },
    {
      "cell_type": "code",
      "metadata": {
        "colab": {
          "base_uri": "https://localhost:8080/"
        },
        "id": "C5LvJ7UXBNdy",
        "outputId": "7d61d08e-4a94-4692-ee66-17155ae13548"
      },
      "source": [
        "prod_id = str(input(\"Enter product id:\"))\n",
        "name = str(input(\"Enter name:\"))\n",
        "pr = int(input(\"Enter price:\"))\n",
        "qn = int(input(\"Enter quantity:\"))\n",
        "\n",
        "record[prod_id] = {'name': name, 'pr': pr, 'qn': qn}\n",
        "\n",
        "js = json.dumps(record)\n",
        "\n",
        "fd = open(\"record.json\",'w')\n",
        "fd.write(js)\n",
        "fd.close()"
      ],
      "execution_count": 64,
      "outputs": [
        {
          "name": "stdout",
          "output_type": "stream",
          "text": [
            "Enter product id:1031\n",
            "Enter name:Camera\n",
            "Enter price:35000\n",
            "Enter quantity:5\n"
          ]
        }
      ]
    },
    {
      "cell_type": "code",
      "metadata": {
        "colab": {
          "base_uri": "https://localhost:8080/"
        },
        "id": "HhKOmtyoDPLB",
        "outputId": "52ce8937-3910-4882-d332-47f1fbaf23c5"
      },
      "source": [
        "record"
      ],
      "execution_count": 60,
      "outputs": [
        {
          "output_type": "execute_result",
          "data": {
            "text/plain": [
              "{'1001': {'name': 'Choco Cake', 'pr': 100, 'qn': 34},\n",
              " '1002': {'name': 'Milk Cake', 'pr': 800, 'qn': 100},\n",
              " '1003': {'name': 'Drink', 'pr': 85, 'qn': 100},\n",
              " '1004': {'name': 'Candy', 'pr': 5, 'qn': 1000},\n",
              " '1005': {'name': 'Pen', 'pr': 20, 'qn': 100},\n",
              " '1006': {'name': 'Phone', 'pr': 50000, 'qn': 10},\n",
              " '1007': {'name': 'Mic', 'pr': 1500, 'qn': 0},\n",
              " '1008': {'name': 'Case', 'pr': 599, 'qn': 5},\n",
              " '1009': {'name': 'Keyboard', 'pr': 1999, 'qn': 10},\n",
              " '1010': {'name': 'monitor', 'pr': 5000, 'qn': 20},\n",
              " '1011': {'name': 'Mouse', 'pr': 1000, 'qn': 20},\n",
              " '1012': {'name': 'chager', 'pr': 1500, 'qn': 20},\n",
              " '1013': {'name': 'table', 'pr': 2000, 'qn': 10},\n",
              " '1014': {'name': 'shirt', 'pr': 2500, 'qn': 50},\n",
              " '1015': {'name': 't-shirt', 'pr': 2500, 'qn': 50},\n",
              " '1016': {'name': 'Jeans', 'pr': 3000, 'qn': 50},\n",
              " '1017': {'name': 'notebook', 'pr': 50, 'qn': 100},\n",
              " '1018': {'name': 'dictionary', 'pr': 200, 'qn': 50},\n",
              " '1019': {'name': 'craft paper', 'pr': 20, 'qn': 50},\n",
              " '1020': {'name': 'drawing Sheet', 'pr': 5, 'qn': 50},\n",
              " '1021': {'name': 'geometry box', 'pr': 110, 'qn': 30},\n",
              " '1022': {'name': 'glue box', 'pr': 10, 'qn': 30},\n",
              " '1023': {'name': 'Drawing book', 'pr': 20, 'qn': 50},\n",
              " '1024': {'name': 'sketch pen', 'pr': 30, 'qn': 20},\n",
              " '1025': {'name': 'ink bottle', 'pr': 25, 'qn': 15},\n",
              " '1026': {'name': 'Ink pen', 'pr': 40, 'qn': 32},\n",
              " '1027': {'name': 'eraser', 'pr': 5, 'qn': 25},\n",
              " '1028': {'name': 'Maggie', 'pr': 12, 'qn': 50},\n",
              " '1029': {'name': 'Cheese', 'pr': 115, 'qn': 20},\n",
              " '1030': {'name': 'Butter', 'pr': 150, 'qn': 25}}"
            ]
          },
          "metadata": {},
          "execution_count": 60
        }
      ]
    },
    {
      "cell_type": "markdown",
      "metadata": {
        "id": "OSZqUiQVXL6-"
      },
      "source": [
        "## **deleting the record**"
      ]
    },
    {
      "cell_type": "code",
      "metadata": {
        "id": "zVi9e6hKDPXh"
      },
      "source": [
        "del record['1011']"
      ],
      "execution_count": null,
      "outputs": []
    }
  ]
}